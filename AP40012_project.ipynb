{
  "nbformat": 4,
  "nbformat_minor": 0,
  "metadata": {
    "colab": {
      "name": "AP40012_project.ipynb",
      "provenance": [],
      "collapsed_sections": [],
      "include_colab_link": true
    },
    "kernelspec": {
      "name": "python3",
      "display_name": "Python 3"
    },
    "language_info": {
      "name": "python"
    }
  },
  "cells": [
    {
      "cell_type": "markdown",
      "metadata": {
        "id": "view-in-github",
        "colab_type": "text"
      },
      "source": [
        "<a href=\"https://colab.research.google.com/github/YuLiuPotato/Comp2021Project/blob/master/AP40012_project.ipynb\" target=\"_parent\"><img src=\"https://colab.research.google.com/assets/colab-badge.svg\" alt=\"Open In Colab\"/></a>"
      ]
    },
    {
      "cell_type": "markdown",
      "metadata": {
        "id": "_lGUxWMAWQRm"
      },
      "source": [
        "AP40012 Project\n",
        "Group 1"
      ]
    },
    {
      "cell_type": "markdown",
      "metadata": {
        "id": "BKkEcxaaWarZ"
      },
      "source": [
        "(Some rough idea, please also try something you want to try)\n"
      ]
    },
    {
      "cell_type": "code",
      "metadata": {
        "id": "rRH78JOoT6ds"
      },
      "source": [
        "# used packages in the project\n",
        "import pandas as pd\n",
        "import numpy as np\n",
        "from sklearn.linear_model import LinearRegression\n",
        "import matplotlib.pyplot as plt\n",
        "%matplotlib inline\n",
        "import matplotlib"
      ],
      "execution_count": 2,
      "outputs": []
    },
    {
      "cell_type": "code",
      "metadata": {
        "colab": {
          "base_uri": "https://localhost:8080/",
          "height": 396
        },
        "id": "qnESHY1YVY4k",
        "outputId": "758722ef-2664-4471-e7aa-41cd0023b15b"
      },
      "source": [
        "covid_raw = pd.read_csv('covid_19_data.csv')\n",
        "covid_raw.info()"
      ],
      "execution_count": 3,
      "outputs": [
        {
          "output_type": "error",
          "ename": "FileNotFoundError",
          "evalue": "ignored",
          "traceback": [
            "\u001b[0;31m---------------------------------------------------------------------------\u001b[0m",
            "\u001b[0;31mFileNotFoundError\u001b[0m                         Traceback (most recent call last)",
            "\u001b[0;32m<ipython-input-3-8893fa8a8554>\u001b[0m in \u001b[0;36m<module>\u001b[0;34m()\u001b[0m\n\u001b[0;32m----> 1\u001b[0;31m \u001b[0mcovid_raw\u001b[0m \u001b[0;34m=\u001b[0m \u001b[0mpd\u001b[0m\u001b[0;34m.\u001b[0m\u001b[0mread_csv\u001b[0m\u001b[0;34m(\u001b[0m\u001b[0;34m'covid_19_data.csv'\u001b[0m\u001b[0;34m)\u001b[0m\u001b[0;34m\u001b[0m\u001b[0;34m\u001b[0m\u001b[0m\n\u001b[0m\u001b[1;32m      2\u001b[0m \u001b[0mcovid_raw\u001b[0m\u001b[0;34m.\u001b[0m\u001b[0minfo\u001b[0m\u001b[0;34m(\u001b[0m\u001b[0;34m)\u001b[0m\u001b[0;34m\u001b[0m\u001b[0;34m\u001b[0m\u001b[0m\n",
            "\u001b[0;32m/usr/local/lib/python3.7/dist-packages/pandas/io/parsers.py\u001b[0m in \u001b[0;36mread_csv\u001b[0;34m(filepath_or_buffer, sep, delimiter, header, names, index_col, usecols, squeeze, prefix, mangle_dupe_cols, dtype, engine, converters, true_values, false_values, skipinitialspace, skiprows, skipfooter, nrows, na_values, keep_default_na, na_filter, verbose, skip_blank_lines, parse_dates, infer_datetime_format, keep_date_col, date_parser, dayfirst, cache_dates, iterator, chunksize, compression, thousands, decimal, lineterminator, quotechar, quoting, doublequote, escapechar, comment, encoding, dialect, error_bad_lines, warn_bad_lines, delim_whitespace, low_memory, memory_map, float_precision)\u001b[0m\n\u001b[1;32m    686\u001b[0m     )\n\u001b[1;32m    687\u001b[0m \u001b[0;34m\u001b[0m\u001b[0m\n\u001b[0;32m--> 688\u001b[0;31m     \u001b[0;32mreturn\u001b[0m \u001b[0m_read\u001b[0m\u001b[0;34m(\u001b[0m\u001b[0mfilepath_or_buffer\u001b[0m\u001b[0;34m,\u001b[0m \u001b[0mkwds\u001b[0m\u001b[0;34m)\u001b[0m\u001b[0;34m\u001b[0m\u001b[0;34m\u001b[0m\u001b[0m\n\u001b[0m\u001b[1;32m    689\u001b[0m \u001b[0;34m\u001b[0m\u001b[0m\n\u001b[1;32m    690\u001b[0m \u001b[0;34m\u001b[0m\u001b[0m\n",
            "\u001b[0;32m/usr/local/lib/python3.7/dist-packages/pandas/io/parsers.py\u001b[0m in \u001b[0;36m_read\u001b[0;34m(filepath_or_buffer, kwds)\u001b[0m\n\u001b[1;32m    452\u001b[0m \u001b[0;34m\u001b[0m\u001b[0m\n\u001b[1;32m    453\u001b[0m     \u001b[0;31m# Create the parser.\u001b[0m\u001b[0;34m\u001b[0m\u001b[0;34m\u001b[0m\u001b[0;34m\u001b[0m\u001b[0m\n\u001b[0;32m--> 454\u001b[0;31m     \u001b[0mparser\u001b[0m \u001b[0;34m=\u001b[0m \u001b[0mTextFileReader\u001b[0m\u001b[0;34m(\u001b[0m\u001b[0mfp_or_buf\u001b[0m\u001b[0;34m,\u001b[0m \u001b[0;34m**\u001b[0m\u001b[0mkwds\u001b[0m\u001b[0;34m)\u001b[0m\u001b[0;34m\u001b[0m\u001b[0;34m\u001b[0m\u001b[0m\n\u001b[0m\u001b[1;32m    455\u001b[0m \u001b[0;34m\u001b[0m\u001b[0m\n\u001b[1;32m    456\u001b[0m     \u001b[0;32mif\u001b[0m \u001b[0mchunksize\u001b[0m \u001b[0;32mor\u001b[0m \u001b[0miterator\u001b[0m\u001b[0;34m:\u001b[0m\u001b[0;34m\u001b[0m\u001b[0;34m\u001b[0m\u001b[0m\n",
            "\u001b[0;32m/usr/local/lib/python3.7/dist-packages/pandas/io/parsers.py\u001b[0m in \u001b[0;36m__init__\u001b[0;34m(self, f, engine, **kwds)\u001b[0m\n\u001b[1;32m    946\u001b[0m             \u001b[0mself\u001b[0m\u001b[0;34m.\u001b[0m\u001b[0moptions\u001b[0m\u001b[0;34m[\u001b[0m\u001b[0;34m\"has_index_names\"\u001b[0m\u001b[0;34m]\u001b[0m \u001b[0;34m=\u001b[0m \u001b[0mkwds\u001b[0m\u001b[0;34m[\u001b[0m\u001b[0;34m\"has_index_names\"\u001b[0m\u001b[0;34m]\u001b[0m\u001b[0;34m\u001b[0m\u001b[0;34m\u001b[0m\u001b[0m\n\u001b[1;32m    947\u001b[0m \u001b[0;34m\u001b[0m\u001b[0m\n\u001b[0;32m--> 948\u001b[0;31m         \u001b[0mself\u001b[0m\u001b[0;34m.\u001b[0m\u001b[0m_make_engine\u001b[0m\u001b[0;34m(\u001b[0m\u001b[0mself\u001b[0m\u001b[0;34m.\u001b[0m\u001b[0mengine\u001b[0m\u001b[0;34m)\u001b[0m\u001b[0;34m\u001b[0m\u001b[0;34m\u001b[0m\u001b[0m\n\u001b[0m\u001b[1;32m    949\u001b[0m \u001b[0;34m\u001b[0m\u001b[0m\n\u001b[1;32m    950\u001b[0m     \u001b[0;32mdef\u001b[0m \u001b[0mclose\u001b[0m\u001b[0;34m(\u001b[0m\u001b[0mself\u001b[0m\u001b[0;34m)\u001b[0m\u001b[0;34m:\u001b[0m\u001b[0;34m\u001b[0m\u001b[0;34m\u001b[0m\u001b[0m\n",
            "\u001b[0;32m/usr/local/lib/python3.7/dist-packages/pandas/io/parsers.py\u001b[0m in \u001b[0;36m_make_engine\u001b[0;34m(self, engine)\u001b[0m\n\u001b[1;32m   1178\u001b[0m     \u001b[0;32mdef\u001b[0m \u001b[0m_make_engine\u001b[0m\u001b[0;34m(\u001b[0m\u001b[0mself\u001b[0m\u001b[0;34m,\u001b[0m \u001b[0mengine\u001b[0m\u001b[0;34m=\u001b[0m\u001b[0;34m\"c\"\u001b[0m\u001b[0;34m)\u001b[0m\u001b[0;34m:\u001b[0m\u001b[0;34m\u001b[0m\u001b[0;34m\u001b[0m\u001b[0m\n\u001b[1;32m   1179\u001b[0m         \u001b[0;32mif\u001b[0m \u001b[0mengine\u001b[0m \u001b[0;34m==\u001b[0m \u001b[0;34m\"c\"\u001b[0m\u001b[0;34m:\u001b[0m\u001b[0;34m\u001b[0m\u001b[0;34m\u001b[0m\u001b[0m\n\u001b[0;32m-> 1180\u001b[0;31m             \u001b[0mself\u001b[0m\u001b[0;34m.\u001b[0m\u001b[0m_engine\u001b[0m \u001b[0;34m=\u001b[0m \u001b[0mCParserWrapper\u001b[0m\u001b[0;34m(\u001b[0m\u001b[0mself\u001b[0m\u001b[0;34m.\u001b[0m\u001b[0mf\u001b[0m\u001b[0;34m,\u001b[0m \u001b[0;34m**\u001b[0m\u001b[0mself\u001b[0m\u001b[0;34m.\u001b[0m\u001b[0moptions\u001b[0m\u001b[0;34m)\u001b[0m\u001b[0;34m\u001b[0m\u001b[0;34m\u001b[0m\u001b[0m\n\u001b[0m\u001b[1;32m   1181\u001b[0m         \u001b[0;32melse\u001b[0m\u001b[0;34m:\u001b[0m\u001b[0;34m\u001b[0m\u001b[0;34m\u001b[0m\u001b[0m\n\u001b[1;32m   1182\u001b[0m             \u001b[0;32mif\u001b[0m \u001b[0mengine\u001b[0m \u001b[0;34m==\u001b[0m \u001b[0;34m\"python\"\u001b[0m\u001b[0;34m:\u001b[0m\u001b[0;34m\u001b[0m\u001b[0;34m\u001b[0m\u001b[0m\n",
            "\u001b[0;32m/usr/local/lib/python3.7/dist-packages/pandas/io/parsers.py\u001b[0m in \u001b[0;36m__init__\u001b[0;34m(self, src, **kwds)\u001b[0m\n\u001b[1;32m   2008\u001b[0m         \u001b[0mkwds\u001b[0m\u001b[0;34m[\u001b[0m\u001b[0;34m\"usecols\"\u001b[0m\u001b[0;34m]\u001b[0m \u001b[0;34m=\u001b[0m \u001b[0mself\u001b[0m\u001b[0;34m.\u001b[0m\u001b[0musecols\u001b[0m\u001b[0;34m\u001b[0m\u001b[0;34m\u001b[0m\u001b[0m\n\u001b[1;32m   2009\u001b[0m \u001b[0;34m\u001b[0m\u001b[0m\n\u001b[0;32m-> 2010\u001b[0;31m         \u001b[0mself\u001b[0m\u001b[0;34m.\u001b[0m\u001b[0m_reader\u001b[0m \u001b[0;34m=\u001b[0m \u001b[0mparsers\u001b[0m\u001b[0;34m.\u001b[0m\u001b[0mTextReader\u001b[0m\u001b[0;34m(\u001b[0m\u001b[0msrc\u001b[0m\u001b[0;34m,\u001b[0m \u001b[0;34m**\u001b[0m\u001b[0mkwds\u001b[0m\u001b[0;34m)\u001b[0m\u001b[0;34m\u001b[0m\u001b[0;34m\u001b[0m\u001b[0m\n\u001b[0m\u001b[1;32m   2011\u001b[0m         \u001b[0mself\u001b[0m\u001b[0;34m.\u001b[0m\u001b[0munnamed_cols\u001b[0m \u001b[0;34m=\u001b[0m \u001b[0mself\u001b[0m\u001b[0;34m.\u001b[0m\u001b[0m_reader\u001b[0m\u001b[0;34m.\u001b[0m\u001b[0munnamed_cols\u001b[0m\u001b[0;34m\u001b[0m\u001b[0;34m\u001b[0m\u001b[0m\n\u001b[1;32m   2012\u001b[0m \u001b[0;34m\u001b[0m\u001b[0m\n",
            "\u001b[0;32mpandas/_libs/parsers.pyx\u001b[0m in \u001b[0;36mpandas._libs.parsers.TextReader.__cinit__\u001b[0;34m()\u001b[0m\n",
            "\u001b[0;32mpandas/_libs/parsers.pyx\u001b[0m in \u001b[0;36mpandas._libs.parsers.TextReader._setup_parser_source\u001b[0;34m()\u001b[0m\n",
            "\u001b[0;31mFileNotFoundError\u001b[0m: [Errno 2] No such file or directory: 'covid_19_data.csv'"
          ]
        }
      ]
    },
    {
      "cell_type": "code",
      "metadata": {
        "colab": {
          "base_uri": "https://localhost:8080/",
          "height": 462
        },
        "id": "vtEfvGk2Vb7a",
        "outputId": "33cc92c3-fc7e-477b-d5c0-a70491aa2c65"
      },
      "source": [
        "region_name = \"Hong Kong\"\n",
        "covid = covid_raw.loc[covid_raw['Province/State'] == region_name]\n",
        "covid.info()"
      ],
      "execution_count": null,
      "outputs": [
        {
          "output_type": "stream",
          "text": [
            "<class 'pandas.core.frame.DataFrame'>\n",
            "Int64Index: 150 entries, 12 to 45716\n",
            "Data columns (total 8 columns):\n",
            " #   Column           Non-Null Count  Dtype  \n",
            "---  ------           --------------  -----  \n",
            " 0   SNo              150 non-null    int64  \n",
            " 1   ObservationDate  150 non-null    object \n",
            " 2   Province/State   150 non-null    object \n",
            " 3   Country/Region   150 non-null    object \n",
            " 4   Last Update      150 non-null    object \n",
            " 5   Confirmed        150 non-null    float64\n",
            " 6   Deaths           150 non-null    float64\n",
            " 7   Recovered        150 non-null    float64\n",
            "dtypes: float64(3), int64(1), object(4)\n",
            "memory usage: 10.5+ KB\n"
          ],
          "name": "stdout"
        },
        {
          "output_type": "execute_result",
          "data": {
            "text/html": [
              "<div>\n",
              "<style scoped>\n",
              "    .dataframe tbody tr th:only-of-type {\n",
              "        vertical-align: middle;\n",
              "    }\n",
              "\n",
              "    .dataframe tbody tr th {\n",
              "        vertical-align: top;\n",
              "    }\n",
              "\n",
              "    .dataframe thead th {\n",
              "        text-align: right;\n",
              "    }\n",
              "</style>\n",
              "<table border=\"1\" class=\"dataframe\">\n",
              "  <thead>\n",
              "    <tr style=\"text-align: right;\">\n",
              "      <th></th>\n",
              "      <th>SNo</th>\n",
              "      <th>ObservationDate</th>\n",
              "      <th>Province/State</th>\n",
              "      <th>Country/Region</th>\n",
              "      <th>Last Update</th>\n",
              "      <th>Confirmed</th>\n",
              "      <th>Deaths</th>\n",
              "      <th>Recovered</th>\n",
              "    </tr>\n",
              "  </thead>\n",
              "  <tbody>\n",
              "    <tr>\n",
              "      <th>12</th>\n",
              "      <td>13</td>\n",
              "      <td>01/22/2020</td>\n",
              "      <td>Hong Kong</td>\n",
              "      <td>Hong Kong</td>\n",
              "      <td>1/22/2020 17:00</td>\n",
              "      <td>0.0</td>\n",
              "      <td>0.0</td>\n",
              "      <td>0.0</td>\n",
              "    </tr>\n",
              "    <tr>\n",
              "      <th>50</th>\n",
              "      <td>51</td>\n",
              "      <td>01/23/2020</td>\n",
              "      <td>Hong Kong</td>\n",
              "      <td>Hong Kong</td>\n",
              "      <td>1/23/20 17:00</td>\n",
              "      <td>2.0</td>\n",
              "      <td>0.0</td>\n",
              "      <td>0.0</td>\n",
              "    </tr>\n",
              "    <tr>\n",
              "      <th>109</th>\n",
              "      <td>110</td>\n",
              "      <td>01/24/2020</td>\n",
              "      <td>Hong Kong</td>\n",
              "      <td>Hong Kong</td>\n",
              "      <td>1/24/20 17:00</td>\n",
              "      <td>2.0</td>\n",
              "      <td>0.0</td>\n",
              "      <td>0.0</td>\n",
              "    </tr>\n",
              "    <tr>\n",
              "      <th>149</th>\n",
              "      <td>150</td>\n",
              "      <td>01/25/2020</td>\n",
              "      <td>Hong Kong</td>\n",
              "      <td>Hong Kong</td>\n",
              "      <td>1/25/20 17:00</td>\n",
              "      <td>5.0</td>\n",
              "      <td>0.0</td>\n",
              "      <td>0.0</td>\n",
              "    </tr>\n",
              "    <tr>\n",
              "      <th>192</th>\n",
              "      <td>193</td>\n",
              "      <td>01/26/2020</td>\n",
              "      <td>Hong Kong</td>\n",
              "      <td>Hong Kong</td>\n",
              "      <td>1/26/20 16:00</td>\n",
              "      <td>8.0</td>\n",
              "      <td>0.0</td>\n",
              "      <td>0.0</td>\n",
              "    </tr>\n",
              "  </tbody>\n",
              "</table>\n",
              "</div>"
            ],
            "text/plain": [
              "     SNo ObservationDate Province/State  ... Confirmed Deaths  Recovered\n",
              "12    13      01/22/2020      Hong Kong  ...       0.0    0.0        0.0\n",
              "50    51      01/23/2020      Hong Kong  ...       2.0    0.0        0.0\n",
              "109  110      01/24/2020      Hong Kong  ...       2.0    0.0        0.0\n",
              "149  150      01/25/2020      Hong Kong  ...       5.0    0.0        0.0\n",
              "192  193      01/26/2020      Hong Kong  ...       8.0    0.0        0.0\n",
              "\n",
              "[5 rows x 8 columns]"
            ]
          },
          "metadata": {
            "tags": []
          },
          "execution_count": 20
        }
      ]
    },
    {
      "cell_type": "code",
      "metadata": {
        "colab": {
          "base_uri": "https://localhost:8080/"
        },
        "id": "vqD47Hn_VhnA",
        "outputId": "a7be7313-7e03-45f6-f15a-fbad34346182"
      },
      "source": [
        "col_n = ['Confirmed','Deaths','Recovered']\n",
        "HK = pd.DataFrame(covid,columns = col_n)\n",
        "HK.info()"
      ],
      "execution_count": null,
      "outputs": [
        {
          "output_type": "stream",
          "text": [
            "<class 'pandas.core.frame.DataFrame'>\n",
            "Int64Index: 150 entries, 12 to 45716\n",
            "Data columns (total 3 columns):\n",
            " #   Column     Non-Null Count  Dtype  \n",
            "---  ------     --------------  -----  \n",
            " 0   Confirmed  150 non-null    float64\n",
            " 1   Deaths     150 non-null    float64\n",
            " 2   Recovered  150 non-null    float64\n",
            "dtypes: float64(3)\n",
            "memory usage: 4.7 KB\n"
          ],
          "name": "stdout"
        }
      ]
    },
    {
      "cell_type": "code",
      "metadata": {
        "id": "0ZSAYHrHVqJA"
      },
      "source": [
        "def generateCsv(df, file_name, move_forward = 0): # generate csv file\n",
        "    # use the data of day x as dependent variables(Y-vairables)\n",
        "    # data of day (x-moveForward) to day (x-1) will be the X-vairables\n",
        "    tempArray = np.array(df)\n",
        "    start_day_index = move_forward\n",
        "    with open(file_name+'.csv','w') as output:\n",
        "        write_c = lambda x: output.write(str(x)+',')\n",
        "        write_n = lambda x: output.write(str(x)+'\\n')\n",
        "        Range = lambda x: range(x+1)\n",
        "        def new_label(label, day):\n",
        "            if (day == move_forward):\n",
        "                return label\n",
        "            else:\n",
        "                return label+'_'+str(move_forward-day)+'_day(s)_ago'\n",
        "        # first line\n",
        "        for _ in Range(move_forward):\n",
        "            write_c(new_label('Infected',_))\n",
        "            write_c(new_label('Confirmed',_))\n",
        "            write_c(new_label('Deaths',_))\n",
        "            if ( _ == move_forward):\n",
        "                write_n(new_label('Recovered',_))\n",
        "            else:\n",
        "                write_c(new_label('Recovered',_))\n",
        "        # data\n",
        "        for index in range(start_day_index,len(tempArray)):\n",
        "            for _ in Range(move_forward):\n",
        "                write_c(tempArray[index-move_forward+_][0]-tempArray[index-move_forward+_][1]-tempArray[index-move_forward+_][2])\n",
        "                write_c(tempArray[index-move_forward+_][0])\n",
        "                write_c(tempArray[index-move_forward+_][1])\n",
        "                if ( _ == move_forward):\n",
        "                    write_n(tempArray[index-move_forward+_][2])\n",
        "                else:\n",
        "                    write_c(tempArray[index-move_forward+_][2]) "
      ],
      "execution_count": null,
      "outputs": []
    },
    {
      "cell_type": "code",
      "metadata": {
        "id": "Ridabr0AVtGQ"
      },
      "source": [
        "generateCsv(HK,'HK_new',5)"
      ],
      "execution_count": null,
      "outputs": []
    },
    {
      "cell_type": "code",
      "metadata": {
        "colab": {
          "base_uri": "https://localhost:8080/",
          "height": 759
        },
        "id": "beGt-2kbVvdT",
        "outputId": "f99850e3-3da1-47cb-fcfe-7ad3475f4420"
      },
      "source": [
        "df = pd.read_csv('HK_new.csv')\n",
        "df.info()"
      ],
      "execution_count": null,
      "outputs": [
        {
          "output_type": "stream",
          "text": [
            "<class 'pandas.core.frame.DataFrame'>\n",
            "RangeIndex: 145 entries, 0 to 144\n",
            "Data columns (total 24 columns):\n",
            " #   Column                  Non-Null Count  Dtype  \n",
            "---  ------                  --------------  -----  \n",
            " 0   Infected_5_day(s)_ago   145 non-null    float64\n",
            " 1   Confirmed_5_day(s)_ago  145 non-null    float64\n",
            " 2   Deaths_5_day(s)_ago     145 non-null    float64\n",
            " 3   Recovered_5_day(s)_ago  145 non-null    float64\n",
            " 4   Infected_4_day(s)_ago   145 non-null    float64\n",
            " 5   Confirmed_4_day(s)_ago  145 non-null    float64\n",
            " 6   Deaths_4_day(s)_ago     145 non-null    float64\n",
            " 7   Recovered_4_day(s)_ago  145 non-null    float64\n",
            " 8   Infected_3_day(s)_ago   145 non-null    float64\n",
            " 9   Confirmed_3_day(s)_ago  145 non-null    float64\n",
            " 10  Deaths_3_day(s)_ago     145 non-null    float64\n",
            " 11  Recovered_3_day(s)_ago  145 non-null    float64\n",
            " 12  Infected_2_day(s)_ago   145 non-null    float64\n",
            " 13  Confirmed_2_day(s)_ago  145 non-null    float64\n",
            " 14  Deaths_2_day(s)_ago     145 non-null    float64\n",
            " 15  Recovered_2_day(s)_ago  145 non-null    float64\n",
            " 16  Infected_1_day(s)_ago   145 non-null    float64\n",
            " 17  Confirmed_1_day(s)_ago  145 non-null    float64\n",
            " 18  Deaths_1_day(s)_ago     145 non-null    float64\n",
            " 19  Recovered_1_day(s)_ago  145 non-null    float64\n",
            " 20  Infected                145 non-null    float64\n",
            " 21  Confirmed               145 non-null    float64\n",
            " 22  Deaths                  145 non-null    float64\n",
            " 23  Recovered               145 non-null    float64\n",
            "dtypes: float64(24)\n",
            "memory usage: 27.3 KB\n"
          ],
          "name": "stdout"
        },
        {
          "output_type": "execute_result",
          "data": {
            "text/html": [
              "<div>\n",
              "<style scoped>\n",
              "    .dataframe tbody tr th:only-of-type {\n",
              "        vertical-align: middle;\n",
              "    }\n",
              "\n",
              "    .dataframe tbody tr th {\n",
              "        vertical-align: top;\n",
              "    }\n",
              "\n",
              "    .dataframe thead th {\n",
              "        text-align: right;\n",
              "    }\n",
              "</style>\n",
              "<table border=\"1\" class=\"dataframe\">\n",
              "  <thead>\n",
              "    <tr style=\"text-align: right;\">\n",
              "      <th></th>\n",
              "      <th>Infected_5_day(s)_ago</th>\n",
              "      <th>Confirmed_5_day(s)_ago</th>\n",
              "      <th>Deaths_5_day(s)_ago</th>\n",
              "      <th>Recovered_5_day(s)_ago</th>\n",
              "      <th>Infected_4_day(s)_ago</th>\n",
              "      <th>Confirmed_4_day(s)_ago</th>\n",
              "      <th>Deaths_4_day(s)_ago</th>\n",
              "      <th>Recovered_4_day(s)_ago</th>\n",
              "      <th>Infected_3_day(s)_ago</th>\n",
              "      <th>Confirmed_3_day(s)_ago</th>\n",
              "      <th>Deaths_3_day(s)_ago</th>\n",
              "      <th>Recovered_3_day(s)_ago</th>\n",
              "      <th>Infected_2_day(s)_ago</th>\n",
              "      <th>Confirmed_2_day(s)_ago</th>\n",
              "      <th>Deaths_2_day(s)_ago</th>\n",
              "      <th>Recovered_2_day(s)_ago</th>\n",
              "      <th>Infected_1_day(s)_ago</th>\n",
              "      <th>Confirmed_1_day(s)_ago</th>\n",
              "      <th>Deaths_1_day(s)_ago</th>\n",
              "      <th>Recovered_1_day(s)_ago</th>\n",
              "      <th>Infected</th>\n",
              "      <th>Confirmed</th>\n",
              "      <th>Deaths</th>\n",
              "      <th>Recovered</th>\n",
              "    </tr>\n",
              "  </thead>\n",
              "  <tbody>\n",
              "    <tr>\n",
              "      <th>0</th>\n",
              "      <td>0.0</td>\n",
              "      <td>0.0</td>\n",
              "      <td>0.0</td>\n",
              "      <td>0.0</td>\n",
              "      <td>2.0</td>\n",
              "      <td>2.0</td>\n",
              "      <td>0.0</td>\n",
              "      <td>0.0</td>\n",
              "      <td>2.0</td>\n",
              "      <td>2.0</td>\n",
              "      <td>0.0</td>\n",
              "      <td>0.0</td>\n",
              "      <td>5.0</td>\n",
              "      <td>5.0</td>\n",
              "      <td>0.0</td>\n",
              "      <td>0.0</td>\n",
              "      <td>8.0</td>\n",
              "      <td>8.0</td>\n",
              "      <td>0.0</td>\n",
              "      <td>0.0</td>\n",
              "      <td>8.0</td>\n",
              "      <td>8.0</td>\n",
              "      <td>0.0</td>\n",
              "      <td>0.0</td>\n",
              "    </tr>\n",
              "    <tr>\n",
              "      <th>1</th>\n",
              "      <td>2.0</td>\n",
              "      <td>2.0</td>\n",
              "      <td>0.0</td>\n",
              "      <td>0.0</td>\n",
              "      <td>2.0</td>\n",
              "      <td>2.0</td>\n",
              "      <td>0.0</td>\n",
              "      <td>0.0</td>\n",
              "      <td>5.0</td>\n",
              "      <td>5.0</td>\n",
              "      <td>0.0</td>\n",
              "      <td>0.0</td>\n",
              "      <td>8.0</td>\n",
              "      <td>8.0</td>\n",
              "      <td>0.0</td>\n",
              "      <td>0.0</td>\n",
              "      <td>8.0</td>\n",
              "      <td>8.0</td>\n",
              "      <td>0.0</td>\n",
              "      <td>0.0</td>\n",
              "      <td>8.0</td>\n",
              "      <td>8.0</td>\n",
              "      <td>0.0</td>\n",
              "      <td>0.0</td>\n",
              "    </tr>\n",
              "    <tr>\n",
              "      <th>2</th>\n",
              "      <td>2.0</td>\n",
              "      <td>2.0</td>\n",
              "      <td>0.0</td>\n",
              "      <td>0.0</td>\n",
              "      <td>5.0</td>\n",
              "      <td>5.0</td>\n",
              "      <td>0.0</td>\n",
              "      <td>0.0</td>\n",
              "      <td>8.0</td>\n",
              "      <td>8.0</td>\n",
              "      <td>0.0</td>\n",
              "      <td>0.0</td>\n",
              "      <td>8.0</td>\n",
              "      <td>8.0</td>\n",
              "      <td>0.0</td>\n",
              "      <td>0.0</td>\n",
              "      <td>8.0</td>\n",
              "      <td>8.0</td>\n",
              "      <td>0.0</td>\n",
              "      <td>0.0</td>\n",
              "      <td>10.0</td>\n",
              "      <td>10.0</td>\n",
              "      <td>0.0</td>\n",
              "      <td>0.0</td>\n",
              "    </tr>\n",
              "    <tr>\n",
              "      <th>3</th>\n",
              "      <td>5.0</td>\n",
              "      <td>5.0</td>\n",
              "      <td>0.0</td>\n",
              "      <td>0.0</td>\n",
              "      <td>8.0</td>\n",
              "      <td>8.0</td>\n",
              "      <td>0.0</td>\n",
              "      <td>0.0</td>\n",
              "      <td>8.0</td>\n",
              "      <td>8.0</td>\n",
              "      <td>0.0</td>\n",
              "      <td>0.0</td>\n",
              "      <td>8.0</td>\n",
              "      <td>8.0</td>\n",
              "      <td>0.0</td>\n",
              "      <td>0.0</td>\n",
              "      <td>10.0</td>\n",
              "      <td>10.0</td>\n",
              "      <td>0.0</td>\n",
              "      <td>0.0</td>\n",
              "      <td>10.0</td>\n",
              "      <td>10.0</td>\n",
              "      <td>0.0</td>\n",
              "      <td>0.0</td>\n",
              "    </tr>\n",
              "    <tr>\n",
              "      <th>4</th>\n",
              "      <td>8.0</td>\n",
              "      <td>8.0</td>\n",
              "      <td>0.0</td>\n",
              "      <td>0.0</td>\n",
              "      <td>8.0</td>\n",
              "      <td>8.0</td>\n",
              "      <td>0.0</td>\n",
              "      <td>0.0</td>\n",
              "      <td>8.0</td>\n",
              "      <td>8.0</td>\n",
              "      <td>0.0</td>\n",
              "      <td>0.0</td>\n",
              "      <td>10.0</td>\n",
              "      <td>10.0</td>\n",
              "      <td>0.0</td>\n",
              "      <td>0.0</td>\n",
              "      <td>10.0</td>\n",
              "      <td>10.0</td>\n",
              "      <td>0.0</td>\n",
              "      <td>0.0</td>\n",
              "      <td>12.0</td>\n",
              "      <td>12.0</td>\n",
              "      <td>0.0</td>\n",
              "      <td>0.0</td>\n",
              "    </tr>\n",
              "  </tbody>\n",
              "</table>\n",
              "</div>"
            ],
            "text/plain": [
              "   Infected_5_day(s)_ago  Confirmed_5_day(s)_ago  ...  Deaths  Recovered\n",
              "0                    0.0                     0.0  ...     0.0        0.0\n",
              "1                    2.0                     2.0  ...     0.0        0.0\n",
              "2                    2.0                     2.0  ...     0.0        0.0\n",
              "3                    5.0                     5.0  ...     0.0        0.0\n",
              "4                    8.0                     8.0  ...     0.0        0.0\n",
              "\n",
              "[5 rows x 24 columns]"
            ]
          },
          "metadata": {
            "tags": []
          },
          "execution_count": 21
        }
      ]
    },
    {
      "cell_type": "code",
      "metadata": {
        "id": "OFvG6xiPVxp0",
        "colab": {
          "base_uri": "https://localhost:8080/"
        },
        "outputId": "aaa5801f-391d-43a2-c104-7676e229fe9b"
      },
      "source": [
        "infectant_df = pd.DataFrame( df ,columns = ['Infected'])\n",
        "confirm_df = pd.DataFrame( df ,columns = ['Confirmed'])\n",
        "death_df = pd.DataFrame( df ,columns = ['Deaths'])\n",
        "recover_df = pd.DataFrame( df ,columns = ['Recovered'])\n",
        "infectant_ar = np.c_[infectant_df]\n",
        "confirm_ar = np.c_[confirm_df]\n",
        "death_ar = np.c_[death_df]\n",
        "recover_ar = np.c_[recover_df]\n",
        "days = np.array(range(1,np.size(confirm_ar)+1))"
      ],
      "execution_count": null,
      "outputs": [
        {
          "output_type": "stream",
          "text": [
            "(145, 1)\n"
          ],
          "name": "stdout"
        }
      ]
    },
    {
      "cell_type": "code",
      "metadata": {
        "colab": {
          "base_uri": "https://localhost:8080/",
          "height": 295
        },
        "id": "QTCsjzKgV1l-",
        "outputId": "de63d99f-4585-48da-92e6-4e9beae20920"
      },
      "source": [
        "plt.plot(days,confirm_ar,marker='.',lw=0,c='blue',ms=5,label='confirmed')\n",
        "plt.plot(days,death_ar,marker='.',lw=0,c='red',ms=5,label='deaths')\n",
        "plt.plot(days,recover_ar,marker='.',lw=0,c='green',ms=5,label='recovered')\n",
        "plt.plot(days,infectant_ar,marker='.',lw=0,c='yellow',ms=5,label='infected')\n",
        "plt.title(\"HK covid-19 situation\")\n",
        "plt.xlabel('days')\n",
        "plt.ylabel('number')\n",
        "plt.legend()\n",
        "plt.show()"
      ],
      "execution_count": null,
      "outputs": [
        {
          "output_type": "display_data",
          "data": {
            "image/png": "[encoded data removed]",
            "text/plain": [
              "<Figure size 432x288 with 1 Axes>"
            ]
          },
          "metadata": {
            "tags": [],
            "needs_background": "light"
          }
        }
      ]
    },
    {
      "cell_type": "code",
      "metadata": {
        "colab": {
          "base_uri": "https://localhost:8080/"
        },
        "id": "e_q_rRXxWIEx",
        "outputId": "0835cc87-25d7-49f6-c5bf-1e98275289cb"
      },
      "source": [
        "X = np.array(df.iloc[:,list(range(20))])\n",
        "print(X.shape)"
      ],
      "execution_count": null,
      "outputs": [
        {
          "output_type": "stream",
          "text": [
            "(145, 20)\n"
          ],
          "name": "stdout"
        }
      ]
    },
    {
      "cell_type": "code",
      "metadata": {
        "colab": {
          "base_uri": "https://localhost:8080/"
        },
        "id": "ymnQrDbWV3SU",
        "outputId": "426db427-65a8-45a1-a8a4-f5bdffca134f"
      },
      "source": [
        "model = LinearRegression()\n",
        "model.fit(X,infectant_ar)"
      ],
      "execution_count": null,
      "outputs": [
        {
          "output_type": "execute_result",
          "data": {
            "text/plain": [
              "LinearRegression(copy_X=True, fit_intercept=True, n_jobs=None, normalize=False)"
            ]
          },
          "metadata": {
            "tags": []
          },
          "execution_count": 16
        }
      ]
    },
    {
      "cell_type": "code",
      "metadata": {
        "id": "1AmRU61KV5od"
      },
      "source": [
        "y_predict = model.predict(X)"
      ],
      "execution_count": null,
      "outputs": []
    },
    {
      "cell_type": "code",
      "metadata": {
        "colab": {
          "base_uri": "https://localhost:8080/",
          "height": 289
        },
        "id": "r1P1dePlV7Pi",
        "outputId": "9c348442-7d3f-46ac-e51e-99b618808ff5"
      },
      "source": [
        "plt.plot(days,infectant_ar,marker='.',lw=0,c='b',ms=5,label='data')\n",
        "plt.plot(days,y_predict,marker='o',ms=0,lw=2,color='r',label='linear regression')\n",
        "plt.xlabel('days',fontsize=22)\n",
        "plt.ylabel('number',fontsize=22)\n",
        "plt.legend()\n",
        "plt.show()"
      ],
      "execution_count": null,
      "outputs": [
        {
          "output_type": "display_data",
          "data": {
            "image/png": "[encoded data removed]",
            "text/plain": [
              "<Figure size 432x288 with 1 Axes>"
            ]
          },
          "metadata": {
            "tags": [],
            "needs_background": "light"
          }
        }
      ]
    },
    {
      "cell_type": "code",
      "metadata": {
        "colab": {
          "base_uri": "https://localhost:8080/",
          "height": 289
        },
        "id": "2CykN-1U4dO7",
        "outputId": "3fb61c13-7208-4109-c2e3-c4eb465a9192"
      },
      "source": [
        "plt.plot(infectant_ar,y_predict,marker='.',color='r',lw=0.0,ms=2.0)\n",
        "plt.plot(range(700),range(700),color='k',lw=0.5,label='y = x')\n",
        "plt.xlabel('Infect predict',fontsize=22)\n",
        "plt.ylabel('Iefect data',fontsize=22)\n",
        "plt.legend()\n",
        "plt.show()"
      ],
      "execution_count": null,
      "outputs": [
        {
          "output_type": "display_data",
          "data": {
            "image/png": "[encoded data removed]",
            "text/plain": [
              "<Figure size 432x288 with 1 Axes>"
            ]
          },
          "metadata": {
            "tags": [],
            "needs_background": "light"
          }
        }
      ]
    },
    {
      "cell_type": "code",
      "metadata": {
        "colab": {
          "base_uri": "https://localhost:8080/"
        },
        "id": "3ffPTbp25wlk",
        "outputId": "7cacfb08-cdf6-4634-fff7-106af8c7c5cd"
      },
      "source": [
        "def r2(y,Y):\n",
        "  m = len(y)\n",
        "  mu = np.mean(y)\n",
        "  ss_res = 0\n",
        "  ss_tot = 0\n",
        "  for i in range(m):\n",
        "    ss_res += (y[i]-Y[i])**2\n",
        "    ss_tot += (y[i]-mu)**2\n",
        "  return 1-ss_res/ss_tot\n",
        "print((r2(infectant_ar,y_predict)))"
      ],
      "execution_count": null,
      "outputs": [
        {
          "output_type": "stream",
          "text": [
            "[0.99827656]\n"
          ],
          "name": "stdout"
        }
      ]
    }
  ]
}